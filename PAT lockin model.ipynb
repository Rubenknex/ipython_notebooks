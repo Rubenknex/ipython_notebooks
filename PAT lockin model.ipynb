{
 "cells": [
  {
   "cell_type": "markdown",
   "metadata": {},
   "source": [
    "## Deconvolute $\\partial I_\\mathrm{PAT}/\\partial V_D$ (no lock-in broadening)\n",
    "\n",
    "$\\displaystyle S_V^\\prime(V)=S_V\\left(\\frac{Ve}{\\hbar}\\right)/2\\pi V^2$\n",
    "\n",
    "$\\omega=eV/\\hbar$\n",
    "\n",
    "$\\displaystyle I_\\mathrm{PAT}(V_D)=\n",
    "\\int_0^\\infty S_V^\\prime(V)I_\\mathrm{QP,0}(V_D+V) \\mathrm{d}V$\n",
    "\n",
    "Differentiate under integral?\n",
    "\n",
    "$\\displaystyle\\frac{\\partial I_\\mathrm{PAT}}{\\partial V_E}(V_D)=\n",
    "\\int_0^\\infty \\frac{\\partial}{\\partial V_E}S_V^\\prime(V)I_\\mathrm{QP,0}(V_D+V) \\mathrm{d}V$"
   ]
  },
  {
   "cell_type": "markdown",
   "metadata": {},
   "source": [
    "## Single-frequency $\\partial I_\\mathrm{PAT}/\\partial V_D$ model (with lock-in broadening)\n",
    "Photon frequency due to lock-in. **The amplitude ($\\Delta\\omega$) scales with the charge transfer of either 1e or 2e, meaning that a 1e peak will be less affected by broadening.**\n",
    "\n",
    "$\\omega(t)=\\omega_0+\\Delta\\omega\\cos(t)$\n",
    "\n",
    "Constant $Z(\\omega)$ or first order approximation:\n",
    "\n",
    "$Z(\\omega)=Z(\\omega_0)+Z'(\\omega_0)(\\omega-\\omega_0)$\n",
    "\n",
    "Average single lock-in cycle to get first harmonic amplitude (and probably divide by $\\sqrt{2}$ to get RMS)\n",
    "\n",
    "$\\displaystyle\\frac{\\partial I_\\mathrm{PAT}}{\\partial V_E}(V_D)=\n",
    "\\frac{1}{2\\pi}\\frac{e^2 I_c}{8\\pi\\hbar^2}\\int_0^{2\\pi} \\frac{Z(\\omega(t))^2}{\\omega(t)^2}I_\\mathrm{QP,0}\\left(V_D+\\frac{\\hbar\\omega(t)}{e}\\right)\\cos(t)\\mathrm{d}t$\n",
    "\n",
    "Not an easy integral, but can be calculated/fitted numerically. Variables:\n",
    "- $\\omega_0$ and $\\Delta\\omega$\n",
    "- $Z$ (and slope at $\\omega$)\n"
   ]
  },
  {
   "cell_type": "code",
   "execution_count": 12,
   "metadata": {
    "collapsed": true
   },
   "outputs": [],
   "source": [
    "%matplotlib inline\n",
    "import numpy as np\n",
    "import matplotlib.pyplot as plt\n",
    "\n",
    "from scipy import interpolate, ndimage, integrate, linalg, stats, signal\n",
    "from scipy.constants import pi, e, hbar\n",
    "\n",
    "from ipywidgets import widgets, interact"
   ]
  },
  {
   "cell_type": "code",
   "execution_count": 68,
   "metadata": {
    "collapsed": false
   },
   "outputs": [
    {
     "data": {
      "text/plain": [
       "[<matplotlib.lines.Line2D at 0xa7b97b8>]"
      ]
     },
     "execution_count": 68,
     "metadata": {},
     "output_type": "execute_result"
    },
    {
     "data": {
      "image/png": "[encoded data removed]",
      "text/plain": [
       "<matplotlib.figure.Figure at 0xa5993c8>"
      ]
     },
     "metadata": {},
     "output_type": "display_data"
    }
   ],
   "source": [
    "# Set 2Delta voltage, V_DET step size and corresponding omega step size\n",
    "two_delta = 505e-6\n",
    "G_N = 0.5e-4\n",
    "dV = 0.3e-6\n",
    "dw = (e * dV) / hbar\n",
    "\n",
    "# Create QP0 curve\n",
    "V_QP0 = np.arange(0, 1000e-6, dV)\n",
    "I_QP0 = np.piecewise(V_QP0, [V_QP0 < two_delta, V_QP0 >= two_delta], [0, lambda x: G_N * x])\n",
    "#I_QP0 = signal.savgol_filter(I_QP0_orig, window_length=51, polyorder=3)\n",
    "I_QP0 = ndimage.filters.gaussian_filter1d(I_QP0, 30)\n",
    "\n",
    "# Create S_V spectrum\n",
    "omegas = np.arange(0, int(two_delta / dV)) * dw\n",
    "\n",
    "plt.plot(V_QP0,I_QP0)"
   ]
  },
  {
   "cell_type": "code",
   "execution_count": 69,
   "metadata": {
    "collapsed": false
   },
   "outputs": [
    {
     "data": {
      "image/png": "[encoded data removed]",
      "text/plain": [
       "<matplotlib.figure.Figure at 0xa7e05f8>"
      ]
     },
     "metadata": {},
     "output_type": "display_data"
    }
   ],
   "source": [
    "t = np.linspace(0, 2*np.pi, 100)\n",
    "dt = t[1] - t[0]\n",
    "V_D = np.linspace(400e-6, 480e-6, 100)\n",
    "\n",
    "qp0 = interpolate.interp1d(V_QP0, I_QP0)\n",
    "\n",
    "def func(w0, dw, Z, Ic):\n",
    "    w0 = w0 * 1e9\n",
    "    dw = dw * 1e9\n",
    "    \n",
    "    w = w0 + dw * np.cos(t)\n",
    "    \n",
    "    A = np.tile(V_D[:,np.newaxis], len(w)) + np.tile(w*hbar/e, (len(V_D),1))\n",
    "    A = qp0(A.ravel())\n",
    "    A = A.reshape((len(V_D), -1))\n",
    "    \n",
    "    b = 1 / (2*np.pi) * ((e**2*Ic)/(8*np.pi*hbar**2)) * (Z/w)**2 * np.cos(t) * dt\n",
    "    \n",
    "    plt.plot(V_D, A.dot(b))\n",
    "\n",
    "#func(250e9, 5e9, 1, 1)\n",
    "interact(func, w0=100, dw=10, Z=1, Ic=1)"
   ]
  },
  {
   "cell_type": "code",
   "execution_count": 59,
   "metadata": {
    "collapsed": false
   },
   "outputs": [
    {
     "data": {
      "text/plain": [
       "5.923907563020666e-05"
      ]
     },
     "execution_count": 59,
     "metadata": {},
     "output_type": "execute_result"
    }
   ],
   "source": [
    "(90e9*hbar)/e"
   ]
  },
  {
   "cell_type": "code",
   "execution_count": null,
   "metadata": {
    "collapsed": true
   },
   "outputs": [],
   "source": []
  }
 ],
 "metadata": {
  "kernelspec": {
   "display_name": "Python 3",
   "language": "python",
   "name": "python3"
  },
  "language_info": {
   "codemirror_mode": {
    "name": "ipython",
    "version": 3
   },
   "file_extension": ".py",
   "mimetype": "text/x-python",
   "name": "python",
   "nbconvert_exporter": "python",
   "pygments_lexer": "ipython3",
   "version": "3.4.4"
  }
 },
 "nbformat": 4,
 "nbformat_minor": 0
}
